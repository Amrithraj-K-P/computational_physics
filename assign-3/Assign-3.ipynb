{
 "cells": [
  {
   "cell_type": "markdown",
   "id": "373fad61",
   "metadata": {},
   "source": [
    "## Amrithraj K P\n",
    "## 2311022"
   ]
  },
  {
   "cell_type": "code",
   "execution_count": 1,
   "id": "104bd129",
   "metadata": {},
   "outputs": [],
   "source": [
    "from Amrith_lib import *\n",
    "\n",
    "A=read_matrix(\"A.txt\")\n",
    "C=read_matrix(\"C.txt\")\n",
    "D=read_matrix(\"D.txt\")"
   ]
  },
  {
   "cell_type": "markdown",
   "id": "bdd7fd1b",
   "metadata": {},
   "source": [
    "## Question-1"
   ]
  },
  {
   "cell_type": "code",
   "execution_count": 3,
   "id": "1bbcad82",
   "metadata": {},
   "outputs": [
    {
     "name": "stdout",
     "output_type": "stream",
     "text": [
      "L=[[1, 0, 0], [3.0, 1, 0], [2.0, 1.0, 1]]\n",
      "U = [[1.0, 2.0, 4.0], [0, 2.0, 2.0], [0, 0, 3.0]]\n",
      "L.U = [[1.0, 2.0, 4.0], [3.0, 8.0, 14.0], [2.0, 6.0, 13.0]]\n"
     ]
    }
   ],
   "source": [
    "def qn_1(matrix): #Doolittle LU factorisation\n",
    "    m=matrix.copy()\n",
    "    L=make_zeros(len(m))\n",
    "    U=make_zeros(len(m))\n",
    "    for l in range(len(m)):\n",
    "        L[l][l]=1\n",
    "        # print(L)\n",
    "    for l in range(len(m)):\n",
    "        U[0][l] = m[0][l]\n",
    "        # print(U)\n",
    "    for j in range(len(m)):\n",
    "        for i in range(1,j+1):\n",
    "            temp=0\n",
    "            for k in range(i):\n",
    "                temp += L[i][k]*U[k][j]\n",
    "            # print(temp)\n",
    "            U[i][j] = m[i][j] - temp\n",
    "            # print(U)\n",
    "\n",
    "        for i in range(j+1,len(m)):\n",
    "            temp=0\n",
    "            for k in range(j):\n",
    "                temp += L[i][k]*U[k][j]\n",
    "\n",
    "            L[i][j] = ( m[i][j] - temp )/U[j][j]\n",
    "            # print(L)\n",
    "    return L,U\n",
    "\n",
    "       \n",
    "L,U=qn_1(A)\n",
    "print(f\"L={L}\")\n",
    "print(f\"U = {U}\")\n",
    "print(f\"L.U = {matrix_mult(L,U)}\")\n"
   ]
  },
  {
   "cell_type": "markdown",
   "id": "088108ca",
   "metadata": {},
   "source": [
    "## Question-2"
   ]
  },
  {
   "cell_type": "code",
   "execution_count": null,
   "id": "b1e736e5",
   "metadata": {},
   "outputs": [
    {
     "name": "stdout",
     "output_type": "stream",
     "text": [
      "[[a1],[a2],[a3],[a4],[a5],[a6]] = [-1.761817043997862, 0.8962280338740133, 4.051931404116158, -1.6171308025395421, 2.041913538501913, 0.15183248715593525]\n"
     ]
    }
   ],
   "source": [
    "print(f\"[a1,a2,a3,a4,a5,a6] = {L_U_Solve(C,D)}\")\n"
   ]
  }
 ],
 "metadata": {
  "kernelspec": {
   "display_name": "Python 3",
   "language": "python",
   "name": "python3"
  },
  "language_info": {
   "codemirror_mode": {
    "name": "ipython",
    "version": 3
   },
   "file_extension": ".py",
   "mimetype": "text/x-python",
   "name": "python",
   "nbconvert_exporter": "python",
   "pygments_lexer": "ipython3",
   "version": "3.12.10"
  }
 },
 "nbformat": 4,
 "nbformat_minor": 5
}
