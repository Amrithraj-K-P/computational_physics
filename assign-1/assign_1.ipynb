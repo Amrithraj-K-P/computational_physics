{
 "cells": [
  {
   "cell_type": "markdown",
   "id": "aadf53db",
   "metadata": {},
   "source": [
    "### Amrithraj K P\n",
    "### 2311022"
   ]
  },
  {
   "cell_type": "markdown",
   "id": "dfaa1efa",
   "metadata": {},
   "source": [
    "# Question-1"
   ]
  },
  {
   "cell_type": "code",
   "execution_count": null,
   "id": "5055016f",
   "metadata": {},
   "outputs": [],
   "source": [
    "import matplotlib.pyplot as plt\n",
    "from Amrith_lib import *"
   ]
  },
  {
   "cell_type": "code",
   "execution_count": null,
   "id": "0b21dfb6",
   "metadata": {},
   "outputs": [],
   "source": [
    "x0=0.1 #seed\n",
    "k_list=[5,10,15,20]\n",
    "\n",
    "# function to plot for each value of k\n",
    "def plot_correlation(random_list,k):\n",
    "    x_out=[]\n",
    "    y_out=[]\n",
    "    for i in range(len(random_list)-k):\n",
    "        x_out.append(random_list[i])\n",
    "        y_out.append(random_list[i+k])\n",
    "    \n",
    "    plt.xlabel(f\"x_i\")\n",
    "    plt.ylabel(f\"x_(i+{k})\")\n",
    "    plt.grid(True)\n",
    "    plt.scatter(x_out,y_out,s=1)\n",
    "\n",
    "\n",
    "#function to iterate across k\n",
    "def plot_multiple(c,n,k_list=k_list):\n",
    "    my_random=rng(c,length=n,x0=x0)\n",
    "    for i in k_list:\n",
    "        plot_correlation(my_random,k=i)\n",
    "        plt.title(f\"c={c}\")\n",
    "        plt.show()\n",
    "\n",
    "\n",
    "\n"
   ]
  },
  {
   "cell_type": "markdown",
   "id": "b92dff18",
   "metadata": {},
   "source": [
    "## c=3.5\n"
   ]
  },
  {
   "cell_type": "code",
   "execution_count": null,
   "id": "2dadcc81",
   "metadata": {},
   "outputs": [],
   "source": [
    "c=3.5\n",
    "plot_multiple(c,n=10000)\n"
   ]
  },
  {
   "cell_type": "markdown",
   "id": "2d81458e",
   "metadata": {},
   "source": [
    "## c=4"
   ]
  },
  {
   "cell_type": "code",
   "execution_count": null,
   "id": "de6f570d",
   "metadata": {},
   "outputs": [],
   "source": [
    "c=4\n",
    "plot_multiple(c,n=10000)"
   ]
  },
  {
   "cell_type": "markdown",
   "id": "501d7856",
   "metadata": {},
   "source": [
    "## c = 3.99"
   ]
  },
  {
   "cell_type": "code",
   "execution_count": null,
   "id": "1a08c195",
   "metadata": {},
   "outputs": [],
   "source": [
    "c=3.999\n",
    "plot_multiple(c,n=10000)"
   ]
  },
  {
   "cell_type": "markdown",
   "id": "d71a5f15",
   "metadata": {},
   "source": [
    "## c=3.86"
   ]
  },
  {
   "cell_type": "code",
   "execution_count": null,
   "id": "7dc0ad71",
   "metadata": {},
   "outputs": [],
   "source": [
    "c=3.86\n",
    "plot_multiple(c,n=10000)"
   ]
  },
  {
   "cell_type": "markdown",
   "id": "65855b1b",
   "metadata": {},
   "source": [
    "## c=3.8"
   ]
  },
  {
   "cell_type": "code",
   "execution_count": null,
   "id": "07d4799e",
   "metadata": {},
   "outputs": [],
   "source": [
    "c=3.8\n",
    "plot_multiple(c,n=10000)"
   ]
  },
  {
   "cell_type": "markdown",
   "id": "304364e6",
   "metadata": {},
   "source": [
    "## Question-2: LCG rng\n"
   ]
  },
  {
   "cell_type": "code",
   "execution_count": null,
   "id": "1f791ec6",
   "metadata": {},
   "outputs": [],
   "source": [
    "a = 1103515245\n",
    "c = 12345\n",
    "m = 32768\n",
    "\n",
    "\n",
    "def plot_lcg(c,n,a=a,m=m,k_list=k_list):\n",
    "    my_random=lcg_rng(n=n,a=a,m=m,c=c,x0=x0)\n",
    "    for i in k_list:\n",
    "        plot_correlation(my_random,k=i)\n",
    "        plt.title(f\"c={c}\")\n",
    "        plt.show()\n",
    "plot_lcg(c=c,n=10000)\n",
    "plt.show()"
   ]
  }
 ],
 "metadata": {
  "kernelspec": {
   "display_name": "Python 3",
   "language": "python",
   "name": "python3"
  },
  "language_info": {
   "codemirror_mode": {
    "name": "ipython",
    "version": 3
   },
   "file_extension": ".py",
   "mimetype": "text/x-python",
   "name": "python",
   "nbconvert_exporter": "python",
   "pygments_lexer": "ipython3",
   "version": "3.12.10"
  }
 },
 "nbformat": 4,
 "nbformat_minor": 5
}
