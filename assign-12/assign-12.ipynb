{
 "cells": [
  {
   "cell_type": "markdown",
   "id": "83116f67",
   "metadata": {},
   "source": [
    "### Amrithraj K P\n",
    "### 2311022"
   ]
  },
  {
   "cell_type": "code",
   "execution_count": 1,
   "id": "ac73ea5e",
   "metadata": {},
   "outputs": [],
   "source": [
    "from Amrith_lib import *\n",
    "import numpy as np\n",
    "from numpy.polynomial import legendre\n",
    "# points, weights = legendre.leggauss(degree)\n"
   ]
  },
  {
   "cell_type": "markdown",
   "id": "5274d552",
   "metadata": {},
   "source": [
    "## Question-1"
   ]
  },
  {
   "cell_type": "code",
   "execution_count": 2,
   "id": "6d9fc783",
   "metadata": {},
   "outputs": [
    {
     "name": "stdout",
     "output_type": "stream",
     "text": [
      "The value of the integral accurate upto 9 decimal places is: 0.4874954942585569,\n",
      "and the value of n is: 14\n"
     ]
    }
   ],
   "source": [
    "def f1(x):\n",
    "    return x**2 / (1 + x**4)\n",
    "\n",
    "temp=True\n",
    "i=0\n",
    "while temp:\n",
    "    i+=1\n",
    "    integral_1 = gaussian_quadrature_integ(f1,[-1,1],i)\n",
    "    if abs(integral_1 - 0.4874954943993587)/0.4874954943993587 <= 10**-9:\n",
    "        temp = False\n",
    "    \n",
    "print(f'The value of the integral accurate upto 9 decimal places is: {integral_1},\\nand the value of n is: {i}')\n"
   ]
  },
  {
   "cell_type": "markdown",
   "id": "50449fb6",
   "metadata": {},
   "source": [
    "## Question-2"
   ]
  },
  {
   "cell_type": "code",
   "execution_count": 3,
   "id": "09b2ca4b",
   "metadata": {},
   "outputs": [
    {
     "name": "stdout",
     "output_type": "stream",
     "text": [
      "Integral by Gaussian quarature is: 1.0894294131091893 \n",
      "The value of n is: 8 \n",
      "\n",
      "Integral by Simpsons rule is: 1.0894294123885135 \n",
      "The value of n is: 17\n"
     ]
    }
   ],
   "source": [
    "def f2(x):\n",
    "    return np.sqrt(1+x**4)\n",
    "\n",
    "temp2=True\n",
    "i=0\n",
    "while temp2:\n",
    "    i+=1\n",
    "    integral_2 = gaussian_quadrature_integ(f2,[0,1],i)\n",
    "    if abs(integral_2 - 1.089429413225362)/1.089429413225362 <= 10**-9:\n",
    "        temp2 = False\n",
    "\n",
    "temp2=True\n",
    "i2=0\n",
    "while temp2:\n",
    "    i2+=1\n",
    "    integral2_simpsons = simpson_integ(f2,[0,1],10**-9,i2)\n",
    "    if abs(integral2_simpsons - 1.089429413225362)/1.089429413225362 <= 10**-9:\n",
    "        temp2 = False\n",
    "\n",
    "print(f'Integral by Gaussian quarature is: {integral_2} \\nThe value of n is: {i} \\n')\n",
    "print(f'Integral by Simpsons rule is: {integral2_simpsons} \\nThe value of n is: {i2}')\n"
   ]
  }
 ],
 "metadata": {
  "kernelspec": {
   "display_name": "Python 3",
   "language": "python",
   "name": "python3"
  },
  "language_info": {
   "codemirror_mode": {
    "name": "ipython",
    "version": 3
   },
   "file_extension": ".py",
   "mimetype": "text/x-python",
   "name": "python",
   "nbconvert_exporter": "python",
   "pygments_lexer": "ipython3",
   "version": "3.12.10"
  }
 },
 "nbformat": 4,
 "nbformat_minor": 5
}
