{
 "cells": [
  {
   "cell_type": "markdown",
   "id": "69aebc4a",
   "metadata": {},
   "source": [
    "### Amrithraj K P\n",
    "### 2311022"
   ]
  },
  {
   "cell_type": "code",
   "execution_count": 1,
   "id": "a51ecea0",
   "metadata": {},
   "outputs": [],
   "source": [
    "from Amrith_lib import *"
   ]
  },
  {
   "cell_type": "markdown",
   "id": "9975a2f9",
   "metadata": {},
   "source": [
    "# Question-1\n"
   ]
  },
  {
   "cell_type": "code",
   "execution_count": 4,
   "id": "44b36dd0",
   "metadata": {},
   "outputs": [
    {
     "name": "stdout",
     "output_type": "stream",
     "text": [
      "Root for P1(x)=0 is:[3.0, 1.0, -0.9999999999999876, -2.0000000000000124]\n",
      "Root for P2(x)=0 is:[2.0000000000000004, 0.9999999999999991, -0.9999999999999876, -2.0000000000000107]\n",
      "Root for P3(x)=0 is:[3.0, 0.5002217314590962, 0.49977822170735553, -0.9999999426289108, -3.0000000105375406]\n"
     ]
    }
   ],
   "source": [
    "P1=[1,-1,-7,1,6]\n",
    "P2=[1,0,-5,0,4]\n",
    "P3=[2,0,-19.5,0.5,13.5,-4.5]\n",
    "p1_r,p1_d=laguerre_root(P1,[10]*4,10**-6)\n",
    "p2_r,p2_d=laguerre_root(P2,[10]*4,10**-6)\n",
    "p3_r,p3_d=laguerre_root(P3,[10]*5,10**-6)\n",
    "\n",
    "print(f'Root for P1(x)=0 is:{p1_r}')\n",
    "print(f'Root for P2(x)=0 is:{p2_r}')\n",
    "print(f'Root for P3(x)=0 is:{p3_r}')"
   ]
  },
  {
   "cell_type": "code",
   "execution_count": null,
   "id": "e404fb51",
   "metadata": {},
   "outputs": [],
   "source": []
  }
 ],
 "metadata": {
  "kernelspec": {
   "display_name": "Python 3",
   "language": "python",
   "name": "python3"
  },
  "language_info": {
   "codemirror_mode": {
    "name": "ipython",
    "version": 3
   },
   "file_extension": ".py",
   "mimetype": "text/x-python",
   "name": "python",
   "nbconvert_exporter": "python",
   "pygments_lexer": "ipython3",
   "version": "3.12.10"
  }
 },
 "nbformat": 4,
 "nbformat_minor": 5
}
