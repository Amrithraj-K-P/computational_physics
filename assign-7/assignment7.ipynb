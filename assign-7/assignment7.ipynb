{
 "cells": [
  {
   "cell_type": "markdown",
   "id": "1d59333f",
   "metadata": {},
   "source": [
    "### Amrithraj K P\n",
    "### 2311022"
   ]
  },
  {
   "cell_type": "code",
   "execution_count": 8,
   "id": "7bca810c",
   "metadata": {},
   "outputs": [],
   "source": [
    "from Amrith_lib import *\n",
    "import matplotlib.pyplot as plt"
   ]
  },
  {
   "cell_type": "markdown",
   "id": "e99868ef",
   "metadata": {},
   "source": [
    "# Question-1\n"
   ]
  },
  {
   "cell_type": "code",
   "execution_count": 9,
   "id": "c7c40365",
   "metadata": {},
   "outputs": [
    {
     "name": "stdout",
     "output_type": "stream",
     "text": [
      "By Newton Raphson mentod, (root, no. of iterations) = ((np.float64(0.36042170296032444), 4))\n",
      "By Regula Falsi mentod, (root, no. of iterations) = ((np.float64(0.36042180364913606), 22))\n",
      "By Bisection mentod, (root, no. of iterations) = ((0.3604220151901245, 46))\n"
     ]
    }
   ],
   "source": [
    "def f(x):\n",
    "    return 3*x + np.sin(x) - np.exp(x)\n",
    "\n",
    "def df(x):\n",
    "    return 3 + np.cos(x) - np.exp(x)\n",
    "\n",
    "\n",
    "nr_root,nr_count = newton_raphson_root(f,df,10**-6,-1.5)\n",
    "rf_root, rf_count = regula_falsi_root(f,[-1.5,1.5],10**-6)\n",
    "bis_root,bis_count = bisection_root(f,[-1.5,1.5],10**-6)\n",
    "\n",
    "print(f'By Newton Raphson mentod, (root, no. of iterations) = ({nr_root,nr_count})')\n",
    "print(f'By Regula Falsi mentod, (root, no. of iterations) = ({rf_root,rf_count})')\n",
    "print(f'By Bisection mentod, (root, no. of iterations) = ({bis_root,bis_count})')"
   ]
  },
  {
   "cell_type": "markdown",
   "id": "12f20d5e",
   "metadata": {},
   "source": [
    "# Question-2"
   ]
  },
  {
   "cell_type": "code",
   "execution_count": 10,
   "id": "ee30b12a",
   "metadata": {},
   "outputs": [
    {
     "name": "stdout",
     "output_type": "stream",
     "text": [
      "By fixed point methos,(root,no. if iterations) = (np.float64(2.9999997014055966), 14)\n"
     ]
    }
   ],
   "source": [
    "#f(x) = x**2 - 2*x -3\n",
    "def g(x):\n",
    "    return np.sqrt(2*x + 3)\n",
    "\n",
    "\n",
    "print(f'By fixed point methos,(root,no. if iterations) = {fixed_pont_root(g,0,10**-6)}')"
   ]
  }
 ],
 "metadata": {
  "kernelspec": {
   "display_name": "Python 3",
   "language": "python",
   "name": "python3"
  },
  "language_info": {
   "codemirror_mode": {
    "name": "ipython",
    "version": 3
   },
   "file_extension": ".py",
   "mimetype": "text/x-python",
   "name": "python",
   "nbconvert_exporter": "python",
   "pygments_lexer": "ipython3",
   "version": "3.12.10"
  }
 },
 "nbformat": 4,
 "nbformat_minor": 5
}
