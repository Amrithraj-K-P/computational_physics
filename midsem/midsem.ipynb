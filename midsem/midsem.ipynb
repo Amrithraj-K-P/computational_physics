{
 "cells": [
  {
   "cell_type": "markdown",
   "id": "935c29b9",
   "metadata": {},
   "source": [
    "### Amrithraj K P\n",
    "### 2311022"
   ]
  },
  {
   "cell_type": "markdown",
   "id": "fda08307",
   "metadata": {},
   "source": [
    "## Question-1"
   ]
  },
  {
   "cell_type": "code",
   "execution_count": 21,
   "id": "7272df6c",
   "metadata": {},
   "outputs": [],
   "source": [
    "from Amrith_lib import *\n",
    "import matplotlib.pyplot as plt"
   ]
  },
  {
   "cell_type": "code",
   "execution_count": 38,
   "id": "0942c390",
   "metadata": {},
   "outputs": [
    {
     "name": "stdout",
     "output_type": "stream",
     "text": [
      "the area is:6.251655629139073, and n=151\n"
     ]
    },
    {
     "data": {
      "image/png": "[encoded data removed]",
      "text/plain": [
       "<Figure size 640x480 with 1 Axes>"
      ]
     },
     "metadata": {},
     "output_type": "display_data"
    }
   ],
   "source": [
    "def ellipse(x,y,a=1,b=2):\n",
    "    return x**2/a**2 + y**2/b**2\n",
    "\n",
    "def find_area(num):\n",
    "    #generating random points (x,y) in a square of size 4x4 .Here -2<=x,y<=2\n",
    "    temp=lcg_rng(x0=0.1,n=2*num,range=[-2,2])\n",
    "    x=temp[0:num-1]\n",
    "    y=temp[num:2*num -1]\n",
    "    count=0\n",
    "    for i in range(len(x)):\n",
    "        if ellipse(x[i], y[i])<=1:\n",
    "            count+=1\n",
    "    \n",
    "    return 16*(count/num) # area = total area * fraction of points in the ellipse\n",
    "\n",
    "n_list=np.arange(1,3000,10)\n",
    "area_list=[find_area(i) for i in n_list]\n",
    "plt.plot(n_list,area_list)\n",
    "plt.xlabel(\"n\")\n",
    "# plt.ylim(0,4)\n",
    "plt.ylabel(r\"area\")\n",
    "plt.axhline(3.14*2,c='r')\n",
    "plt.grid(True)\n",
    "# plt.show()\n",
    "\n",
    "for i in n_list:\n",
    "    if 100*abs(2*np.pi - find_area(int(i)))/(2*np.pi) <= 5:\n",
    "        print(f\"the area is:{find_area(int(i))}, and n={i}\")\n",
    "        break\n"
   ]
  },
  {
   "cell_type": "markdown",
   "id": "60e39ae6",
   "metadata": {},
   "source": [
    "## Question-2"
   ]
  },
  {
   "cell_type": "code",
   "execution_count": 32,
   "id": "29e7ac1c",
   "metadata": {},
   "outputs": [
    {
     "name": "stdout",
     "output_type": "stream",
     "text": [
      "The value of b is: 0.0028990103305774253\n"
     ]
    }
   ],
   "source": [
    "# x = (hc/kb)\n",
    "# b = hc/kx\n",
    "# (x-5)e^x + 5 = 0\n",
    "\n",
    "def f(x):\n",
    "    return (x-5)*np.exp(x) + 5\n",
    "\n",
    "def dfdx(x):\n",
    "    return np.exp(x)*(x-4)\n",
    "\n",
    "x=newton_raphson_root(f,dfdx,accur=10**-4,x0_guess=10)\n",
    "\n",
    "\n",
    "h = 6.626 * 10**-34\n",
    "k = 1.381 * 10**-23\n",
    "c = 3 * 10**8\n",
    "\n",
    "b=h * c/ (k * x[0])\n",
    "\n",
    "print(f\"The value of b is: {b}\")\n",
    "# x_p = np.linspace(0,5,1000)\n",
    "# y_p =[f(i) for i in x_p]\n",
    "# plt.plot(x_p,y_p)\n",
    "# plt.show()"
   ]
  },
  {
   "cell_type": "markdown",
   "id": "81c77285",
   "metadata": {},
   "source": [
    "## Question-3"
   ]
  },
  {
   "cell_type": "code",
   "execution_count": null,
   "id": "aab59bef",
   "metadata": {},
   "outputs": [
    {
     "name": "stdout",
     "output_type": "stream",
     "text": [
      "The inverse of the matrix is:\n",
      "[-0.708, 2.531, 2.431, 0.967, -3.902]\n",
      "[-0.193, 0.31, 0.279, 0.058, -0.294]\n",
      "[0.022, 0.365, 0.286, 0.051, -0.29]\n",
      "[0.273, -0.13, 0.132, -0.141, 0.449]\n",
      "[0.782, -2.875, -2.679, -0.701, 4.234]\n"
     ]
    }
   ],
   "source": [
    "M = read_matrix('qn3.txt')\n",
    "\n",
    "\n",
    "def L_U_inverse(A): # inverse using L U decomposition\n",
    "    out=[]\n",
    "    n=len(A)\n",
    "    I = [[0]]*n\n",
    "    i=0\n",
    "    while i<n:\n",
    "        temp=I.copy()\n",
    "        temp[i] = [1] # solving A x = b where b is the ith column of the identity matrix\n",
    "        temp2=L_U_Solve(A,temp)\n",
    "        for j in range(len(temp2)):\n",
    "            temp2[j]=float(np.round(temp2[j],3)) #rounding\n",
    "        out.append(temp2)\n",
    "        i+=1\n",
    "\n",
    "    return transpose(out) \n",
    "\n",
    "def print_matrix(M):\n",
    "    for i in M:\n",
    "        print(i)\n",
    "\n",
    "        \n",
    "print('The inverse of the matrix is:')\n",
    "print_matrix(L_U_inverse(M))\n",
    "\n"
   ]
  },
  {
   "cell_type": "markdown",
   "id": "756981eb",
   "metadata": {},
   "source": [
    "## Question- 4"
   ]
  },
  {
   "cell_type": "code",
   "execution_count": 30,
   "id": "26781587",
   "metadata": {},
   "outputs": [
    {
     "name": "stdout",
     "output_type": "stream",
     "text": [
      "The solution is [1.4999997042227708, -0.4999999999999998, 2.0, -2.499999852079816, 1.0, -0.9999999999915815]\n",
      "the solution is obtained after 13 iterations\n"
     ]
    }
   ],
   "source": [
    "A = read_matrix('qn4A.txt')\n",
    "B = read_matrix('qn4B.txt')\n",
    "\n",
    "sol=gauss_siedel_solve(A,B,guess=[1,1,1,1,1,1],eps=10**-6)\n",
    "print(f'The solution is {sol[0]}')\n",
    "print(f'the solution is obtained after {sol[1]} iterations')"
   ]
  }
 ],
 "metadata": {
  "kernelspec": {
   "display_name": "Python 3",
   "language": "python",
   "name": "python3"
  },
  "language_info": {
   "codemirror_mode": {
    "name": "ipython",
    "version": 3
   },
   "file_extension": ".py",
   "mimetype": "text/x-python",
   "name": "python",
   "nbconvert_exporter": "python",
   "pygments_lexer": "ipython3",
   "version": "3.12.10"
  }
 },
 "nbformat": 4,
 "nbformat_minor": 5
}
