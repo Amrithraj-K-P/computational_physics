{
 "cells": [
  {
   "cell_type": "markdown",
   "id": "d7f68022",
   "metadata": {},
   "source": [
    "### Amrithraj K P\n",
    "### 2311022"
   ]
  },
  {
   "cell_type": "code",
   "execution_count": 1,
   "id": "5b732c9e",
   "metadata": {},
   "outputs": [],
   "source": [
    "from Amrith_lib import *\n",
    "A1 = read_matrix('A1.txt')\n",
    "B1 = read_matrix('B1.txt')\n",
    "A2 = read_matrix('A2.txt')\n",
    "B2 = read_matrix('B2.txt')"
   ]
  },
  {
   "cell_type": "markdown",
   "id": "02df1c8c",
   "metadata": {},
   "source": [
    "## Question 1\n"
   ]
  },
  {
   "cell_type": "code",
   "execution_count": 2,
   "id": "051cad6c",
   "metadata": {},
   "outputs": [
    {
     "name": "stdout",
     "output_type": "stream",
     "text": [
      "True\n",
      "Solution by cholesky decomposition is[np.float64(1.0), np.float64(0.9999999999999999), np.float64(1.0), np.float64(1.0), np.float64(1.0), np.float64(1.0)]\n",
      "solution by gauss siedel iteration is[0.9999997530614102, 0.9999997892247294, 0.9999999100460266, 0.9999998509593769, 0.9999998727858708, 0.9999999457079743]\n",
      "The solution converges after 16 iterations\n"
     ]
    }
   ],
   "source": [
    " \n",
    "print(check_symmetry(A1))\n",
    "\n",
    "chol_sol = cholesky_solve(A1,B1)\n",
    "print(f'Solution by cholesky decomposition is{chol_sol}')\n",
    "\n",
    "gs_soln,gs_count=gauss_siedel_solve(A1,B1,[0,0,0,0,0,0],10**-6)\n",
    "print(f'solution by gauss siedel iteration is{gs_soln}')\n",
    "print(f'The solution converges after {gs_count} iterations')\n"
   ]
  },
  {
   "cell_type": "markdown",
   "id": "d5494d2e",
   "metadata": {},
   "source": [
    "## Question 2"
   ]
  },
  {
   "cell_type": "code",
   "execution_count": 6,
   "id": "b93a7856",
   "metadata": {},
   "outputs": [
    {
     "name": "stdout",
     "output_type": "stream",
     "text": [
      "the solution by LU decomposition is: [2.9791651927838654, 2.2155995755217557, 0.2112840466926055, 0.15231694375663485, 5.715033604527767]\n",
      "The solution by Jacobi iteration is [2.979165056795253, 2.215599391485432, 0.2112838649649856, 0.15231675099384495, 5.7150334073492335]\n",
      "The solution converges after 60 iterations for Jacobi iteration\n",
      "The solution by gauss siedel iteration is[2.979165086347139, 2.215599676186742, 0.21128402698819157, 0.15231700827754802, 5.715033568811629]\n",
      "The solution converges after 12 iterations for Gauss-Siedel iteration\n"
     ]
    }
   ],
   "source": [
    "lu_soln=L_U_Solve(A2,B2)\n",
    "print(f'the solution by LU decomposition is: {lu_soln}')\n",
    "\n",
    "#rearrangement to make diagonally dominant\n",
    "A2_n=row_exchange(A2,2,4)\n",
    "B2_n=row_exchange(B2,2,4)\n",
    "A2_n=row_exchange(A2_n,0,3)\n",
    "B2_n=row_exchange(B2_n,0,3)\n",
    "\n",
    "\n",
    "jac_sol,jac_count =jacobi_sol(A2_n,B2_n,[0,0,0,0,0],1e-6)\n",
    "gs_sol2,gs_count2=gauss_siedel_solve(A2_n,B2_n,[0,0,0,0,0],1e-6)\n",
    "\n",
    "print(f'The solution by Jacobi iteration is {jac_sol}')\n",
    "print(f'The solution converges after {jac_count} iterations for Jacobi iteration')\n",
    "print(f'The solution by gauss siedel iteration is{gs_sol2}')\n",
    "print(f'The solution converges after {gs_count2} iterations for Gauss-Siedel iteration')"
   ]
  },
  {
   "cell_type": "code",
   "execution_count": null,
   "id": "440f7018",
   "metadata": {},
   "outputs": [],
   "source": []
  }
 ],
 "metadata": {
  "kernelspec": {
   "display_name": "Python 3",
   "language": "python",
   "name": "python3"
  },
  "language_info": {
   "codemirror_mode": {
    "name": "ipython",
    "version": 3
   },
   "file_extension": ".py",
   "mimetype": "text/x-python",
   "name": "python",
   "nbconvert_exporter": "python",
   "pygments_lexer": "ipython3",
   "version": "3.12.10"
  }
 },
 "nbformat": 4,
 "nbformat_minor": 5
}
