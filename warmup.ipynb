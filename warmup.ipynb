{
 "cells": [
  {
   "cell_type": "code",
   "execution_count": null,
   "id": "b413f1b8",
   "metadata": {},
   "outputs": [],
   "source": [
    "from Amrith_lib import *\n",
    "#Name: Amrithraj K P \n",
    "#Roll:2311022"
   ]
  },
  {
   "cell_type": "code",
   "execution_count": 86,
   "id": "1705943c",
   "metadata": {},
   "outputs": [
    {
     "name": "stdout",
     "output_type": "stream",
     "text": [
      " sum of first 20 odd numbers is :400\n",
      "8 factorial is :40320\n"
     ]
    }
   ],
   "source": [
    "#Question - 1\n",
    "n_odd=20\n",
    "n_fact=8\n",
    "\n",
    "temp2=0\n",
    "i=1\n",
    "while i<=n_odd:\n",
    "    j=1\n",
    "    temp=-1\n",
    "    while j<=i:\n",
    "        j+=1\n",
    "        temp+=2\n",
    "    temp2+=temp\n",
    "    i+=1\n",
    "odd_out=temp2\n",
    "print(f\" sum of first {n_odd} odd numbers is :{odd_out}\")\n",
    "\n",
    "if n_fact==0:\n",
    "    out=1\n",
    "\n",
    "else:\n",
    "    i=1\n",
    "    out=1\n",
    "    while i<=n_fact:\n",
    "        out = i*out\n",
    "        i+=1\n",
    "\n",
    "print(f\"{n_fact} factorial is :{out}\")\n",
    "\n",
    "#sum of first 20 odd numbers is :400\n",
    "# 8 factorial is :40320"
   ]
  },
  {
   "cell_type": "code",
   "execution_count": null,
   "id": "7a383057",
   "metadata": {},
   "outputs": [
    {
     "name": "stdout",
     "output_type": "stream",
     "text": [
      "The sum of first 15 terms of the GP and HP are:\n",
      " GP: 2.4999237060546875, HP:3.012170701620779\n"
     ]
    }
   ],
   "source": [
    "#Question - 2\n",
    "from Amrith_lib import *\n",
    "n=15\n",
    "t0=1.25\n",
    "d=1.5\n",
    "r=0.5\n",
    "\n",
    "gp=[t0]\n",
    "hp=[t0]#initialising the lists\n",
    "i=1\n",
    "temp_gp=t0\n",
    "temp_hp=1/t0\n",
    "while i<n:\n",
    "    temp_gp=temp_gp*r\n",
    "    temp_hp+=d\n",
    "    gp.append(temp_gp)\n",
    "    hp.append(1/temp_hp)\n",
    "    i+=1\n",
    "\n",
    "print(f\"The sum of first {n} terms of the GP and HP are:\\n GP: {list_sum(gp)}, HP:{list_sum(hp)}\")\n",
    "\n",
    "\n",
    "#The sum of first 15 terms of the GP and HP are: GP: 2.4999237060546875, HP:3.012170701620779"
   ]
  },
  {
   "cell_type": "code",
   "execution_count": null,
   "id": "525ad1cf",
   "metadata": {},
   "outputs": [
    {
     "name": "stdout",
     "output_type": "stream",
     "text": [
      "A.B = [[-0.3000000000000007, -3.5, 5.2], [-4.5, -2.0, 4.5], [9.3, 0.8, -7.0]]\n",
      "D.C = -3.5\n",
      "B.C = [[1.0], [-5.75], [-9.0]]\n"
     ]
    }
   ],
   "source": [
    "#Question-3\n",
    "A = read_matrix('asgn0_matA')\n",
    "B= read_matrix('asgn0_matB')\n",
    "C= read_matrix('asgn0_vecC')\n",
    "D= read_matrix('asgn0_vecD')\n",
    "\n",
    "\n",
    "print(f\"A.B = {matrix_mult(A,B)}\")\n",
    "print(f\"D.C = {vec_prod(D,C)}\")\n",
    "print(f\"B.C = {matrix_mult(B,C)}\")\n",
    "\n",
    "\n",
    "\n",
    "\n"
   ]
  },
  {
   "cell_type": "code",
   "execution_count": 115,
   "id": "b4153f04",
   "metadata": {},
   "outputs": [
    {
     "name": "stdout",
     "output_type": "stream",
     "text": [
      "c1 is: 1.3 + -2.2i\n",
      "c2 is: -0.8 + 1.7i\n",
      "c1+c2 is: 0.5 + -0.5000000000000002i\n",
      "c1-c2 is: 2.1 + -3.9000000000000004i\n",
      "c1*c2 is: 2.7 + 3.97i\n",
      "|c1| is 2.5553864678361276\n",
      "|c2| is 1.8788294228055935\n"
     ]
    }
   ],
   "source": [
    "#Question-4\n",
    "c1=mycomplex(1.3,-2.2)\n",
    "c2=mycomplex(-0.8,1.7)\n",
    "c3=mycomplex(0,0)\n",
    "print(\"c1 is:\", end=' ' )\n",
    "c1.display()\n",
    "print(\"c2 is:\", end=' ')\n",
    "c2.display()\n",
    "print(\"c1+c2 is:\", end=' ')\n",
    "c3.add(c1,c2)\n",
    "c3.display()\n",
    "print(\"c1-c2 is:\", end=' ')\n",
    "c3.sub(c1,c2)\n",
    "c3.display()\n",
    "print(\"c1*c2 is:\", end=' ')\n",
    "c3.mult(c1,c2)\n",
    "c3.display()\n",
    "print(f\"|c1| is {c1.modulus()}\")\n",
    "print(f\"|c2| is {c2.modulus()}\")\n"
   ]
  }
 ],
 "metadata": {
  "kernelspec": {
   "display_name": "Python 3",
   "language": "python",
   "name": "python3"
  },
  "language_info": {
   "codemirror_mode": {
    "name": "ipython",
    "version": 3
   },
   "file_extension": ".py",
   "mimetype": "text/x-python",
   "name": "python",
   "nbconvert_exporter": "python",
   "pygments_lexer": "ipython3",
   "version": "3.12.10"
  }
 },
 "nbformat": 4,
 "nbformat_minor": 5
}
