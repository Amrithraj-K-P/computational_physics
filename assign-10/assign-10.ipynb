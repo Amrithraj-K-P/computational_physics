{
 "cells": [
  {
   "cell_type": "markdown",
   "id": "6b17de3e",
   "metadata": {},
   "source": [
    "## Amrithraj KP\n",
    "## 2311022"
   ]
  },
  {
   "cell_type": "code",
   "execution_count": 16,
   "id": "c2a5c16f",
   "metadata": {},
   "outputs": [],
   "source": [
    "from amrith_lib_postmidsem import *"
   ]
  },
  {
   "cell_type": "code",
   "execution_count": 31,
   "id": "e7e9b40f",
   "metadata": {},
   "outputs": [
    {
     "name": "stdout",
     "output_type": "stream",
     "text": [
      "f1 = 1/x :  ANALYTICAL RESULT = 0.69314718\n",
      "\n",
      "                   CALCULATED VALUES\n",
      "       |        Mid          |         Trap\n",
      "n = 4: |  0.8088669500434207 | 0.6970238095238095\n",
      "n = 8: |  0.7532666146492639 | 0.6941218503718504\n",
      "n = 15: |  0.7257953116171972 | 0.726758137691398\n",
      "n = 20: |  0.6930690982255867 | 0.6933033817926939\n",
      "\n",
      "------------------------------------------------------------\n",
      "f2 = xcosx :  ANALYTICAL RESULT = 0.57079632\n",
      "\n",
      "                   CALCULATED VALUES\n",
      "       |        Mid          |         Trap\n",
      "n = 4: |  0.45206370810869595 | 0.5376071275673585\n",
      "n = 8: |  0.5428138890211153 | 0.5625275221623354\n",
      "n = 15: |  0.5630757753710974 | 0.5684462350385164\n",
      "n = 20: |  0.5664927139444493 | 0.569474588169518\n",
      "\n",
      "------------------------------------------------------------\n",
      "f2 = xcosx :  ANALYTICAL RESULT = 0.28539816339\n",
      "\n",
      "                   CALCULATED VALUES\n",
      "       |        Mid          |         Trap\n",
      "n = 4: |  0.5194643579514437 | 0.29209834589395167\n",
      "n = 8: |  0.39289510287110385 | 0.28707219762553304\n",
      "n = 15: |  0.3403945344120902 | 0.33823414177724254\n",
      "n = 20: |  0.2852642601614453 | 0.2856659633604931\n"
     ]
    }
   ],
   "source": [
    "def f1(x):\n",
    "    return 1/x\n",
    "\n",
    "def f2(x):\n",
    "    return x*np.cos(x)\n",
    "\n",
    "def f3(x):\n",
    "    return x*np.atan(x)\n",
    "\n",
    "\n",
    "N = [4, 8, 15, 20]\n",
    "\n",
    "Midpoint_vals1, Trapezoid_vals1 = [midpoint_integ(f1, [1, 2], n) for n in N], [trapezoidal_integ(f1, [1, 2], n) for n in N]\n",
    "Midpoint_vals2, Trapezoid_vals2 = [midpoint_integ(f2, [0, np.pi/2], n) for n in N], [trapezoidal_integ(f2, [0, np.pi/2], n) for n in N]\n",
    "Midpoint_vals3, Trapezoid_vals3 = [midpoint_integ(f3, [0, 1], n) for n in N], [trapezoidal_integ(f3, [0, 1], n) for n in N]\n",
    "\n",
    "# f1 = 1/x\n",
    "print('f1 = 1/x :  ANALYTICAL RESULT = 0.69314718\\n')\n",
    "print('                   CALCULATED VALUES')\n",
    "print('       |        Mid          |         Trap')\n",
    "for i, j, n in zip(Midpoint_vals1, Trapezoid_vals1, N):\n",
    "    print(f'n = {n}: |  {i} | {j}')\n",
    "\n",
    "print('')\n",
    "print('------------------------------------------------------------')\n",
    "# f2 = xcosx\n",
    "print('f2 = xcosx :  ANALYTICAL RESULT = 0.57079632\\n')\n",
    "print('                   CALCULATED VALUES')\n",
    "print('       |        Mid          |         Trap')\n",
    "for i, j, n in zip(Midpoint_vals2, Trapezoid_vals2, N):\n",
    "    print(f'n = {n}: |  {i} | {j}')\n",
    "    \n",
    "print('')\n",
    "print('------------------------------------------------------------')\n",
    "\n",
    "# f3 = x arctan(x)\n",
    "print('f2 = xcosx :  ANALYTICAL RESULT = 0.28539816339\\n')\n",
    "print('                   CALCULATED VALUES')\n",
    "print('       |        Mid          |         Trap')\n",
    "for i, j, n in zip(Midpoint_vals3, Trapezoid_vals3, N):\n",
    "    print(f'n = {n}: |  {i} | {j}')\n"
   ]
  },
  {
   "cell_type": "code",
   "execution_count": null,
   "id": "40ed15dd",
   "metadata": {},
   "outputs": [],
   "source": []
  }
 ],
 "metadata": {
  "kernelspec": {
   "display_name": "Python 3",
   "language": "python",
   "name": "python3"
  },
  "language_info": {
   "codemirror_mode": {
    "name": "ipython",
    "version": 3
   },
   "file_extension": ".py",
   "mimetype": "text/x-python",
   "name": "python",
   "nbconvert_exporter": "python",
   "pygments_lexer": "ipython3",
   "version": "3.12.10"
  }
 },
 "nbformat": 4,
 "nbformat_minor": 5
}
