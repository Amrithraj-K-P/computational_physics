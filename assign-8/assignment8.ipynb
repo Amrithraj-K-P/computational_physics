{
 "cells": [
  {
   "cell_type": "markdown",
   "id": "9c689766",
   "metadata": {},
   "source": [
    "### Amrithraj K P\n",
    "### 2311022"
   ]
  },
  {
   "cell_type": "code",
   "execution_count": 1,
   "id": "40a0ec37",
   "metadata": {},
   "outputs": [],
   "source": [
    "from Amrith_lib import *"
   ]
  },
  {
   "cell_type": "markdown",
   "id": "f239edad",
   "metadata": {},
   "source": [
    "# Question-1\n"
   ]
  },
  {
   "cell_type": "code",
   "execution_count": 2,
   "id": "4d0724b4",
   "metadata": {},
   "outputs": [],
   "source": [
    "def f1(x1,x2,x3):\n",
    "    return x1**2 + x2 -37\n",
    "\n",
    "def f2(x1,x2,x3):\n",
    "    return x1 - x2**2 -5\n",
    "\n",
    "def f3(x1,x2,x3):\n",
    "    return x1 + x2 + x3 -3\n",
    "\n",
    "def g1(x1,x2,x3):\n",
    "    return np.sqrt(37 - x2)\n",
    "\n",
    "def g2(x1,x2,x3):\n",
    "    return np.sqrt(x1-5)\n",
    "\n",
    "def g3(x1,x2,x3):\n",
    "    return 3 - x1 - x2\n",
    "\n",
    "\n",
    "def f(x):\n",
    "    x1=x[0]\n",
    "    x2=x[1]\n",
    "    x3=x[2]\n",
    "    return [f1(x1,x2,x3),f2(x1,x2,x3),f3(x1,x2,x3)]\n",
    "\n",
    "\n",
    "def g(x):\n",
    "    x1=x[0]\n",
    "    x2=x[1]\n",
    "    x3=x[2]\n",
    "    return [g1(x1,x2,x3), g2(x1,x2,x3), g3(x1,x2,x3)]"
   ]
  },
  {
   "cell_type": "markdown",
   "id": "d78e1f04",
   "metadata": {},
   "source": [
    "### Part 1"
   ]
  },
  {
   "cell_type": "code",
   "execution_count": 9,
   "id": "1b0cdaf5",
   "metadata": {},
   "outputs": [
    {
     "name": "stdout",
     "output_type": "stream",
     "text": [
      "The solution by fixed point method is:[np.float64(6.000000083983479), np.float64(1.0), np.float64(-3.9999989921982513)]\n",
      "The solution is reached after 11 iterations\n"
     ]
    }
   ],
   "source": [
    "fp_sol,fp_count=multivar_fixed_point_root(g,10**-6,[60,1,1])\n",
    "print(f'The solution by fixed point method is:{fp_sol}')\n",
    "print(f'The solution is reached after {fp_count} iterations')"
   ]
  },
  {
   "cell_type": "markdown",
   "id": "75de4006",
   "metadata": {},
   "source": [
    "### Part 2"
   ]
  },
  {
   "cell_type": "code",
   "execution_count": 10,
   "id": "5050c80e",
   "metadata": {},
   "outputs": [
    {
     "name": "stdout",
     "output_type": "stream",
     "text": [
      "The solution by newton raphson method is:[6.0, 1.0000000000000022, -4.000000000000002]\n",
      "The solution is reached after 8 iterations\n"
     ]
    }
   ],
   "source": [
    "def J(x):\n",
    "    x1,x2,x3 = x[0], x[1], x[2]\n",
    "    return[[2*x1,1,0],\n",
    "           [1,-2*x2,0],\n",
    "           [1,1,1]]\n",
    "\n",
    "\n",
    "#inverse is found using gauss jordan elimination\n",
    "\n",
    "nr_sol,nr_count=multivar_newton_raphson_root(f,J,10**-6,[60,1,1])\n",
    "print(f'The solution by newton raphson method is:{nr_sol}')\n",
    "print(f'The solution is reached after {nr_count} iterations')"
   ]
  }
 ],
 "metadata": {
  "kernelspec": {
   "display_name": "Python 3",
   "language": "python",
   "name": "python3"
  },
  "language_info": {
   "codemirror_mode": {
    "name": "ipython",
    "version": 3
   },
   "file_extension": ".py",
   "mimetype": "text/x-python",
   "name": "python",
   "nbconvert_exporter": "python",
   "pygments_lexer": "ipython3",
   "version": "3.12.10"
  }
 },
 "nbformat": 4,
 "nbformat_minor": 5
}
