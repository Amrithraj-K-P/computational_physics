{
 "cells": [
  {
   "cell_type": "markdown",
   "id": "a34f8575",
   "metadata": {},
   "source": [
    "## Assignment-4\n",
    "### Name: Amrithraj K P\n",
    "### Roll No.: 2311022"
   ]
  },
  {
   "cell_type": "code",
   "execution_count": 1,
   "id": "fa8d50e4",
   "metadata": {},
   "outputs": [],
   "source": [
    "from Amrith_lib import *\n",
    "A=read_matrix('A.txt')\n",
    "B=read_matrix('B.txt')"
   ]
  },
  {
   "cell_type": "markdown",
   "id": "ae94a8a9",
   "metadata": {},
   "source": [
    "## Question 1"
   ]
  },
  {
   "cell_type": "code",
   "execution_count": 6,
   "id": "722447df",
   "metadata": {},
   "outputs": [
    {
     "name": "stdout",
     "output_type": "stream",
     "text": [
      "[np.float64(-2.220446049250313e-16), np.float64(1.0000000000000002), np.float64(1.0000000000000002), np.float64(1.0000000000000002)]\n"
     ]
    }
   ],
   "source": [
    "chol_sol=cholesky_solve(A,B)\n",
    "print(chol_sol)\n"
   ]
  },
  {
   "cell_type": "markdown",
   "id": "ba09fb0e",
   "metadata": {},
   "source": [
    "## Question-2"
   ]
  },
  {
   "cell_type": "code",
   "execution_count": 5,
   "id": "826ccb2b",
   "metadata": {},
   "outputs": [
    {
     "name": "stdout",
     "output_type": "stream",
     "text": [
      "[0.0, 0.9999994039535522, 0.9999997019767761, 0.9999997019767761]\n",
      "the solutionn converges after 42 iterations\n"
     ]
    }
   ],
   "source": [
    "sol,n=jacobi_iter(A,B,[0,0,0,0],10**-6)\n",
    "print(sol)\n",
    "print(f\"the solutionn converges after {n} iterations\")\n",
    "\n",
    "    \n",
    "\n"
   ]
  },
  {
   "cell_type": "code",
   "execution_count": null,
   "id": "e63ea4b0",
   "metadata": {},
   "outputs": [],
   "source": []
  }
 ],
 "metadata": {
  "kernelspec": {
   "display_name": "Python 3",
   "language": "python",
   "name": "python3"
  },
  "language_info": {
   "codemirror_mode": {
    "name": "ipython",
    "version": 3
   },
   "file_extension": ".py",
   "mimetype": "text/x-python",
   "name": "python",
   "nbconvert_exporter": "python",
   "pygments_lexer": "ipython3",
   "version": "3.12.10"
  }
 },
 "nbformat": 4,
 "nbformat_minor": 5
}
