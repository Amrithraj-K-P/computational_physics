{
 "cells": [
  {
   "cell_type": "markdown",
   "id": "e1d325cf",
   "metadata": {},
   "source": [
    "## Amrithraj K P\n",
    "## 2311022\n"
   ]
  },
  {
   "cell_type": "code",
   "execution_count": 1,
   "id": "a180d592",
   "metadata": {},
   "outputs": [
    {
     "ename": "ModuleNotFoundError",
     "evalue": "No module named 'Amrith_lib'",
     "output_type": "error",
     "traceback": [
      "\u001b[31m---------------------------------------------------------------------------\u001b[39m",
      "\u001b[31mModuleNotFoundError\u001b[39m                       Traceback (most recent call last)",
      "\u001b[36mCell\u001b[39m\u001b[36m \u001b[39m\u001b[32mIn[1]\u001b[39m\u001b[32m, line 1\u001b[39m\n\u001b[32m----> \u001b[39m\u001b[32m1\u001b[39m \u001b[38;5;28;01mfrom\u001b[39;00m\u001b[38;5;250m \u001b[39m\u001b[34;01mAmrith_lib\u001b[39;00m\u001b[38;5;250m \u001b[39m\u001b[38;5;28;01mimport\u001b[39;00m *\n\u001b[32m      2\u001b[39m A=read_matrix(\u001b[33m\"\u001b[39m\u001b[33mA.txt\u001b[39m\u001b[33m\"\u001b[39m)\n\u001b[32m      3\u001b[39m B=read_matrix(\u001b[33m\"\u001b[39m\u001b[33mB.txt\u001b[39m\u001b[33m\"\u001b[39m)\n",
      "\u001b[31mModuleNotFoundError\u001b[39m: No module named 'Amrith_lib'"
     ]
    }
   ],
   "source": [
    "from Amrith_lib import *\n",
    "A=read_matrix(\"A.txt\")\n",
    "B=read_matrix(\"B.txt\")\n",
    "C=read_matrix(\"C.txt\")\n",
    "D=read_matrix(\"D.txt\")"
   ]
  },
  {
   "cell_type": "code",
   "execution_count": 8,
   "id": "3273c496",
   "metadata": {},
   "outputs": [
    {
     "name": "stdout",
     "output_type": "stream",
     "text": [
      "[[x],[y],[z]] = [[-2.0], [-2.0], [1.0]]\n",
      "[[a1],[a2],[a3],[a4],[a5],[a6]] = [[-1.7618170439978602], [0.8962280338740121], [4.051931404116157], [-1.6171308025395412], [2.041913538501913], [0.15183248715593545]]\n"
     ]
    }
   ],
   "source": [
    "#Question-1\n",
    "print(f\"[[x],[y],[z]] = {gauss_jordan(A,B)}\")\n",
    "\n",
    "#Question-2\n",
    "print(f\"[[a1],[a2],[a3],[a4],[a5],[a6]] = {gauss_jordan(C,D)}\")\n",
    "\n",
    "\n",
    "\n",
    "\n",
    "\n"
   ]
  },
  {
   "cell_type": "code",
   "execution_count": null,
   "id": "b7dc7608",
   "metadata": {},
   "outputs": [],
   "source": []
  }
 ],
 "metadata": {
  "kernelspec": {
   "display_name": "Python 3",
   "language": "python",
   "name": "python3"
  },
  "language_info": {
   "codemirror_mode": {
    "name": "ipython",
    "version": 3
   },
   "file_extension": ".py",
   "mimetype": "text/x-python",
   "name": "python",
   "nbconvert_exporter": "python",
   "pygments_lexer": "ipython3",
   "version": "3.12.10"
  }
 },
 "nbformat": 4,
 "nbformat_minor": 5
}
