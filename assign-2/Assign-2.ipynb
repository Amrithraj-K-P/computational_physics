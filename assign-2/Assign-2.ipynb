{
 "cells": [
  {
   "cell_type": "markdown",
   "id": "e1d325cf",
   "metadata": {},
   "source": [
    "## Amrithraj K P\n",
    "## 2311022\n"
   ]
  },
  {
   "cell_type": "code",
   "execution_count": 1,
   "id": "a180d592",
   "metadata": {},
   "outputs": [],
   "source": [
    "from Amrith_lib import *\n",
    "A=read_matrix(\"A.txt\")\n",
    "B=read_matrix(\"B.txt\")\n",
    "C=read_matrix(\"C.txt\")\n",
    "D=read_matrix(\"D.txt\")"
   ]
  },
  {
   "cell_type": "code",
   "execution_count": 5,
   "id": "3273c496",
   "metadata": {},
   "outputs": [
    {
     "name": "stdout",
     "output_type": "stream",
     "text": [
      "[[-2.0], [-2.0], [1.0]]\n",
      "[[-1.7618170439978602], [0.8962280338740121], [4.051931404116157], [-1.6171308025395412], [2.041913538501913], [0.15183248715593545]]\n"
     ]
    }
   ],
   "source": [
    "#Question-1\n",
    "print(gauss_jordan(A,B))\n",
    "\n",
    "#Question-2\n",
    "print(gauss_jordan(C,D))\n",
    "\n",
    "\n",
    "\n",
    "\n",
    "\n"
   ]
  },
  {
   "cell_type": "code",
   "execution_count": null,
   "id": "b7dc7608",
   "metadata": {},
   "outputs": [],
   "source": []
  }
 ],
 "metadata": {
  "kernelspec": {
   "display_name": "Python 3",
   "language": "python",
   "name": "python3"
  },
  "language_info": {
   "codemirror_mode": {
    "name": "ipython",
    "version": 3
   },
   "file_extension": ".py",
   "mimetype": "text/x-python",
   "name": "python",
   "nbconvert_exporter": "python",
   "pygments_lexer": "ipython3",
   "version": "3.12.10"
  }
 },
 "nbformat": 4,
 "nbformat_minor": 5
}
